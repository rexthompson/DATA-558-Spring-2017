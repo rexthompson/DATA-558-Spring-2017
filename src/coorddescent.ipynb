{
 "cells": [
  {
   "cell_type": "markdown",
   "metadata": {},
   "source": [
    "# FUNCTIONS\n",
    "\n",
    "Rex Thompson  \n",
    "DATA 558 - Spring 2017  \n",
    "6/9/2017"
   ]
  },
  {
   "cell_type": "markdown",
   "metadata": {},
   "source": [
    "### Initial setup"
   ]
  },
  {
   "cell_type": "code",
   "execution_count": 1,
   "metadata": {
    "collapsed": true
   },
   "outputs": [],
   "source": [
    "# THINGS NEEDED FOR COORDDESCENT.PY TO RUN\n",
    "import copy\n",
    "import numpy as np\n",
    "import pandas as pd\n",
    "from sklearn.metrics import mean_squared_error\n",
    "import matplotlib.pyplot as plt\n",
    "\n",
    "\n",
    "\n",
    "\n",
    "# THINGS NOT NEEDED IN COORDDESCENT.PY FILE ITSELF\n",
    "from sklearn.linear_model import ElasticNet\n",
    "from sklearn.linear_model import ElasticNetCV\n",
    "\n",
    "from sklearn.model_selection import train_test_split\n",
    "import sklearn.preprocessing\n",
    "import time\n",
    "\n",
    "from IPython.core.interactiveshell import InteractiveShell\n",
    "InteractiveShell.ast_node_interactivity = \"all\"\n",
    "%matplotlib inline"
   ]
  },
  {
   "cell_type": "code",
   "execution_count": null,
   "metadata": {
    "collapsed": true
   },
   "outputs": [],
   "source": []
  },
  {
   "cell_type": "code",
   "execution_count": null,
   "metadata": {
    "collapsed": true
   },
   "outputs": [],
   "source": []
  },
  {
   "cell_type": "markdown",
   "metadata": {},
   "source": [
    "## Complete (but not yet polished with comments, docstrings, etc)"
   ]
  },
  {
   "cell_type": "code",
   "execution_count": 2,
   "metadata": {
    "collapsed": true
   },
   "outputs": [],
   "source": [
    "def compute_obj(beta, X, y, lam, alpha):\n",
    "    obj = (1/len(y))*np.sum((y - X.dot(beta))**2) + lam*(alpha*np.sum(np.abs(beta)) + (1-alpha)*beta.dot(beta))\n",
    "    return obj"
   ]
  },
  {
   "cell_type": "code",
   "execution_count": 3,
   "metadata": {
    "collapsed": true
   },
   "outputs": [],
   "source": [
    "def compute_beta_j_new(beta, X, y, lam, alpha, j, match_skl=False):\n",
    "    x_j = X[:,j]\n",
    "    beta_dropJ = np.delete(beta, j)\n",
    "    X_dropJ = np.delete(X, j, 1)\n",
    "    n = len(y)\n",
    "    \n",
    "    if match_skl:\n",
    "        num = 1\n",
    "    else:\n",
    "        num = 2\n",
    "        \n",
    "    a_j = (num/n)*(x_j.dot(x_j) + lam*n*(1-alpha))\n",
    "    c_j = (num/n)*x_j.dot(y - X_dropJ.dot(beta_dropJ))\n",
    "    \n",
    "    if c_j < -lam*alpha:\n",
    "        return (c_j + lam*alpha)/a_j\n",
    "    elif c_j > lam*alpha:\n",
    "        return (c_j - lam*alpha)/a_j\n",
    "    else:\n",
    "        return 0"
   ]
  },
  {
   "cell_type": "code",
   "execution_count": 4,
   "metadata": {
    "collapsed": true
   },
   "outputs": [],
   "source": [
    "def coorddescent(beta_init, X, y, lam, alpha, tol=0, max_iter=1000, desc_type=\"cyclic\", match_skl=False):\n",
    "    \n",
    "    beta = copy.deepcopy(beta_init)\n",
    "    stepCoords = copy.deepcopy([beta])\n",
    "    p = len(beta)\n",
    "    it = 0  # initialize iteration counter\n",
    "    dist = copy.deepcopy(tol)\n",
    "    max_iter = max_iter*p\n",
    "    \n",
    "    while dist >= tol and it < max_iter:\n",
    "        \n",
    "        # pick a coordinate\n",
    "        if desc_type == \"cyclic\":\n",
    "            j = np.mod(it, p)\n",
    "        elif desc_type == \"random\":\n",
    "            j = np.random.randint(p)\n",
    "        else:\n",
    "            raise Exception(\"Invalid descent type: \" + desc_type)\n",
    "        \n",
    "        # find new beta_j by minimizing F(beta) w.r.t. beta_j; other coords stay the same\n",
    "        beta[j] = compute_beta_j_new(beta, X, y, lam, alpha, j, match_skl)\n",
    "        stepCoords.append(np.array(beta))\n",
    "        \n",
    "        # compute distance from last attempt for convergence threshold check\n",
    "        if np.mod(it, p) == p-1:\n",
    "            last_beta = stepCoords[-p-1]\n",
    "            dist = np.sqrt(sum((beta - last_beta)**2))\n",
    "        it += 1\n",
    "        \n",
    "    return stepCoords"
   ]
  },
  {
   "cell_type": "code",
   "execution_count": 5,
   "metadata": {
    "collapsed": true
   },
   "outputs": [],
   "source": [
    "def cross_validate_coord_descent(X, y, lambdas, folds=3, alpha=.9, max_iter=1000, random_seed=None, match_skl=False):\n",
    "    \n",
    "    if isinstance(random_seed, int)\n",
    "        np.random.seed(random_seed)\n",
    "    else:\n",
    "        pass\n",
    "    \n",
    "    n, p = X.shape\n",
    "    all_MSEs = np.empty((0, len(lambdas)))\n",
    "    \n",
    "    idxs = (list(range(folds)) * (n//folds+1))[0:n]\n",
    "    np.random.shuffle(idxs)\n",
    "    idxs = np.array(idxs)\n",
    "    \n",
    "    for i in range(folds):\n",
    "        X_train_CV = X[idxs!=i,:]\n",
    "        X_test_CV = X[idxs==i,:]\n",
    "        y_train_CV = y[idxs!=i]\n",
    "        y_test_CV = y[idxs==i]\n",
    "        MSEs_mine = []\n",
    "        for lam in lambdas:\n",
    "            betas_cyclic = coorddescent(np.zeros(p), X_train_CV, y_train_CV, lam, alpha, tol=-1, max_iter=max_iter, match_skl=match_skl)\n",
    "            y_pred = np.dot(X_test_CV, betas_cyclic[-1])\n",
    "            MSEs_mine.append(mean_squared_error(y_test_CV, y_pred))\n",
    "        all_MSEs = np.vstack((all_MSEs, MSEs_mine))\n",
    "    \n",
    "    return all_MSEs"
   ]
  },
  {
   "cell_type": "code",
   "execution_count": 23,
   "metadata": {
    "collapsed": true
   },
   "outputs": [],
   "source": [
    "def plot_MSEs(lambdas, all_MSEs):\n",
    "    all_MSEs_mean = np.mean(all_MSEs, axis=0)\n",
    "    for i in range(len(all_MSEs)):\n",
    "        plt.plot(np.log(lambdas), all_MSEs[i], '--', linewidth=.8);\n",
    "    plt.plot(np.log(lambdas), all_MSEs_mean, 'black', linewidth=2);\n",
    "    plt.xlabel('log' + r'($\\lambda)$')\n",
    "    plt.ylabel('MSE');"
   ]
  },
  {
   "cell_type": "code",
   "execution_count": null,
   "metadata": {
    "collapsed": true
   },
   "outputs": [],
   "source": []
  },
  {
   "cell_type": "code",
   "execution_count": null,
   "metadata": {
    "collapsed": true
   },
   "outputs": [],
   "source": []
  },
  {
   "cell_type": "code",
   "execution_count": null,
   "metadata": {
    "collapsed": true
   },
   "outputs": [],
   "source": []
  },
  {
   "cell_type": "markdown",
   "metadata": {},
   "source": [
    "### TEMP DATA FOR TESTING"
   ]
  },
  {
   "cell_type": "code",
   "execution_count": 6,
   "metadata": {
    "collapsed": false
   },
   "outputs": [],
   "source": [
    "# data import and initial cleanup\n",
    "# hitters = pd.read_csv('./data/Hitters.csv', sep=',', header=0)\n",
    "hitters = pd.read_csv('https://raw.githubusercontent.com/selva86/datasets/master/Hitters.csv', sep=',', header=0)\n",
    "hitters = hitters.dropna()\n",
    "\n",
    "# split out predictors and response\n",
    "X = hitters.drop('Salary', axis=1)\n",
    "y = hitters['Salary']\n",
    "\n",
    "# Encode the variables League, Division, and NewLeague\n",
    "X = pd.get_dummies(X, drop_first=True)\n",
    "\n",
    "# convert to numpy arrays\n",
    "X = np.array(X)\n",
    "y = np.array(y)\n",
    "\n",
    "# TEMP\n",
    "X = (X-np.mean(X, axis=0)) / np.std(X, axis=0)\n",
    "y = (y-np.mean(y)) / np.std(y)"
   ]
  },
  {
   "cell_type": "code",
   "execution_count": 7,
   "metadata": {
    "collapsed": false
   },
   "outputs": [],
   "source": [
    "# train/test split\n",
    "X_train, X_test, y_train, y_test = train_test_split(X, y, random_state=0)\n",
    "\n",
    "# scale and center predictors\n",
    "scaler = sklearn.preprocessing.StandardScaler()\n",
    "scaler.fit(X_train)\n",
    "X_train = scaler.transform(X_train)\n",
    "X_test = scaler.transform(X_test);"
   ]
  },
  {
   "cell_type": "code",
   "execution_count": 8,
   "metadata": {
    "collapsed": true
   },
   "outputs": [],
   "source": [
    "# TEMP FOR TESTING\n",
    "# X = copy.deepcopy(x)\n",
    "n, p = X.shape\n",
    "beta = np.zeros(p) + 0.75\n",
    "lam = 0.44\n",
    "alpha = .9"
   ]
  },
  {
   "cell_type": "code",
   "execution_count": null,
   "metadata": {
    "collapsed": true
   },
   "outputs": [],
   "source": []
  },
  {
   "cell_type": "code",
   "execution_count": null,
   "metadata": {
    "collapsed": true
   },
   "outputs": [],
   "source": []
  },
  {
   "cell_type": "code",
   "execution_count": null,
   "metadata": {
    "collapsed": true
   },
   "outputs": [],
   "source": []
  },
  {
   "cell_type": "code",
   "execution_count": null,
   "metadata": {
    "collapsed": true
   },
   "outputs": [],
   "source": []
  },
  {
   "cell_type": "code",
   "execution_count": null,
   "metadata": {
    "collapsed": true
   },
   "outputs": [],
   "source": []
  },
  {
   "cell_type": "code",
   "execution_count": null,
   "metadata": {
    "collapsed": true
   },
   "outputs": [],
   "source": []
  },
  {
   "cell_type": "markdown",
   "metadata": {},
   "source": [
    "I now assign the arguments and run this function. I am using 5 folds, with initial splits randomly assigned (but roughly equal in size). The results are plotted below; the dashed lines are the MSEs at various $\\lambda$ values for each individual fold, and the thick black line is the mean of the MSEs for each $\\lambda$ value across all the folds."
   ]
  },
  {
   "cell_type": "code",
   "execution_count": 10,
   "metadata": {
    "collapsed": false
   },
   "outputs": [],
   "source": [
    "max_iter = 1000\n",
    "lambdas = np.array([10**k for k in range(-5, 1)])\n",
    "np.random.seed(5)\n",
    "all_MSEs = cross_validate_coord_descent(X, y, lambdas, 5, 0.9, max_iter)\n",
    "all_MSEs_mean = np.mean(all_MSEs, axis=0)"
   ]
  },
  {
   "cell_type": "code",
   "execution_count": 11,
   "metadata": {
    "collapsed": false
   },
   "outputs": [
    {
     "data": {
      "image/png": "[encoded data removed]",
      "text/plain": [
       "<matplotlib.figure.Figure at 0x115baf438>"
      ]
     },
     "metadata": {},
     "output_type": "display_data"
    }
   ],
   "source": [
    "for i in range(len(all_MSEs)):\n",
    "    plt.plot(np.log(lambdas), all_MSEs[i], '--', linewidth=.8);\n",
    "plt.plot(np.log(lambdas), all_MSEs_mean, 'black', linewidth=2);\n",
    "plt.xlabel('log' + r'($\\lambda)$')\n",
    "plt.ylabel('MSE');"
   ]
  },
  {
   "cell_type": "code",
   "execution_count": 12,
   "metadata": {
    "collapsed": false
   },
   "outputs": [
    {
     "name": "stdout",
     "output_type": "stream",
     "text": [
      "Optimal lambda =  0.01\n"
     ]
    }
   ],
   "source": [
    "best_lam = lambdas[np.argmin(all_MSEs_mean)]\n",
    "print(\"Optimal lambda = \", best_lam)"
   ]
  },
  {
   "cell_type": "markdown",
   "metadata": {},
   "source": [
    "### Bullet 9"
   ]
  },
  {
   "cell_type": "markdown",
   "metadata": {},
   "source": [
    "I now run both my cyclic and random coordinate descent functions on the Hitters dataset using the optimal $\\lambda$ value I found through cross-validation in the previous bullet (i.e. 0.01)."
   ]
  },
  {
   "cell_type": "code",
   "execution_count": null,
   "metadata": {
    "collapsed": false
   },
   "outputs": [],
   "source": [
    "np.random.seed(50)\n",
    "betas_cyclic = coorddescent(np.zeros(p), X, y, best_lam, 0.9, -1, max_iter, desc_type=\"cyclic\")\n",
    "betas_random = coorddescent(np.zeros(p), X, y, best_lam, 0.9, -1, max_iter, desc_type=\"random\")\n",
    "objVals_cyclic = [ compute_obj(b, X, y, best_lam, 0.9) for b in betas_cyclic ]\n",
    "objVals_random = [ compute_obj(b, X, y, best_lam, 0.9) for b in betas_random ]"
   ]
  },
  {
   "cell_type": "code",
   "execution_count": null,
   "metadata": {
    "collapsed": false
   },
   "outputs": [],
   "source": [
    "newIter = [i/p for i in range(len(objVals_cyclic))]\n",
    "fig = plt.figure(figsize=[14,4])\n",
    "ax1 = fig.add_subplot(121)\n",
    "ax1.plot(newIter, objVals_cyclic)\n",
    "ax1.plot(newIter, objVals_random)\n",
    "plt.xlabel('Iteration Counter')\n",
    "plt.ylabel('Objective Function Value');\n",
    "ax1.legend(['cyclic','random'])\n",
    "ax2 = fig.add_subplot(122)\n",
    "ax2.plot(newIter[0:19*14], objVals_cyclic[0:19*14]);\n",
    "ax2.plot(newIter[0:19*14], objVals_random[0:19*14]);\n",
    "plt.xlabel('Iteration Counter')\n",
    "plt.ylabel('Objective Function Value');\n",
    "ax2.legend(['cyclic','random']);"
   ]
  },
  {
   "cell_type": "markdown",
   "metadata": {},
   "source": [
    "The plots above show the objective function values for the $\\beta$ values found using my cyclic and random coordinate descent algorithms. As shown, both algorithms' objective function values quickly converge towards a final solution. The plot on the right zooms in on the elbow to show that the random coordinate descent algorithm approaches the final solution more quickly than the cyclic coordinate descent algorithm in this case. However, note that I experimented with several different seeds and in quite a few cases observed cyclic algorithm results that converged more rapidly than those from the random descent algorithm!\n",
    "\n",
    "The plot below shows the coefficient estimates for both of my approaches (blue circles and red crosses for cyclic and random descent algorithms, respectively), along with the results from scikit-learn's ElasticNetCV function (orange circles). My results are essentially identical to one another, with each red cross sitting right on top of a blue circle below. My algorithms' coefficients, while not an exact match, also line up quite well with those found using scikit-learn's ElasticNetCV function. Most coefficients are identical or very close; only a few appear to be off by a little bit (it appears the more extreme coefficients are worst). Small differences are not a surprise since the scikit-learn function uses a slightly different objective function than the one I used for my cyclic and random coordinate descent algorithms (see below for more on this). Additionally, the scikit-learn function uses a $\\lambda$ value found through its own cross-validation, and it is not necessarilty the same as the $\\lambda$ value I used in my functions."
   ]
  },
  {
   "cell_type": "code",
   "execution_count": null,
   "metadata": {
    "collapsed": false
   },
   "outputs": [],
   "source": [
    "en = ElasticNetCV(l1_ratio=0.9)\n",
    "en.fit(X, y)\n",
    "en.coef_\n",
    "skl_alpha = en.alpha_\n",
    "plt.plot(betas_cyclic[-1], '.', color='blue', ms=12)\n",
    "plt.plot(betas_random[-1], '+', color='red', ms=10)\n",
    "plt.plot(en.coef_, '.', color='orange');\n",
    "plt.legend(['cyclic','random','sklearn'], loc=1);"
   ]
  },
  {
   "cell_type": "markdown",
   "metadata": {},
   "source": [
    "For reference, below are the actual coefficients for both of my algorithms along with those from the ElasticNetCV function. As shown, the coefficients match up quite well; the magnitudes are very close for most coefficients, and with only one exception they both identified the same zero- and non-zero coefficients."
   ]
  },
  {
   "cell_type": "code",
   "execution_count": null,
   "metadata": {
    "collapsed": false
   },
   "outputs": [],
   "source": [
    "print(\"my cyclic:\\n\", betas_cyclic[-1])\n",
    "print(\"my random:\\n\", betas_random[-1])\n",
    "print(\"sciklearn:\\n\", en.coef_)"
   ]
  },
  {
   "cell_type": "markdown",
   "metadata": {},
   "source": [
    "As a check on my own equations, I derived the formulas to perform coordinate descent based on the objective function in the scikit-learn ElasticNet function. The solution was almost identical to what I had already derived, with the exception of the factor of 2 in front of the $c_j$ and $w_j$ terms. I updated my `compute_beta_j_new` function as well as my `cycliccoorddescent` and `randcoorddescent` functions to check them against scikit-learn - see below."
   ]
  },
  {
   "cell_type": "markdown",
   "metadata": {},
   "source": [
    "I performed calculations similar to above (except using the optimal $\\lambda$ found using scikit-learn's ElasticNetCV function above for all three approaches), and compared the results:"
   ]
  },
  {
   "cell_type": "code",
   "execution_count": null,
   "metadata": {
    "collapsed": true
   },
   "outputs": [],
   "source": []
  },
  {
   "cell_type": "code",
   "execution_count": null,
   "metadata": {
    "collapsed": false
   },
   "outputs": [],
   "source": [
    "betas_cyclic_new = coorddescent(np.zeros(p), X, y, skl_alpha, 0.9, tol=-1, desc_type=\"cyclic\", match_skl=True)\n",
    "betas_random_new = coorddescent(np.zeros(p), X, y, skl_alpha, 0.9, tol=-1, desc_type=\"random\", match_skl=True)\n",
    "\n",
    "# X_df = pd.DataFrame(X)\n",
    "# betas_cyclic_new = cycliccoorddescent_sklearn(np.zeros(p), X_df, y, skl_alpha, 0.9, max_iter)\n",
    "# betas_random_new = randcoorddescent_sklearn(np.zeros(p), X_df, y, skl_alpha, 0.9, max_iter)\n",
    "\n",
    "en_new = ElasticNet(l1_ratio=0.9, alpha=skl_alpha)\n",
    "en_new.fit(X, y)\n",
    "plt.plot(betas_cyclic_new[-1], '.', color='blue', ms=12)\n",
    "plt.plot(betas_random_new[-1], '+', color='red', ms=10)\n",
    "plt.plot(en.coef_, '.', color='orange');\n",
    "plt.legend(['cyclic','random','sklearn'], loc=1);"
   ]
  },
  {
   "cell_type": "markdown",
   "metadata": {},
   "source": [
    "As shown, the points sit right on top of one another for every coefficient, indicating that the three algorithms are essentially identical. This gives me high confidence that I derived my original equations above correctly!\n",
    "\n",
    "For reference, here are the coefficients for the three approaches:"
   ]
  },
  {
   "cell_type": "code",
   "execution_count": null,
   "metadata": {
    "collapsed": false
   },
   "outputs": [],
   "source": [
    "print(\"my cyclic (updated):\\n\", betas_cyclic_new[-1])\n",
    "print(\"my random (updated):\\n\", betas_random_new[-1])\n",
    "print(\"sciklearn:\\n\", en.coef_)"
   ]
  },
  {
   "cell_type": "markdown",
   "metadata": {},
   "source": [
    "### Bullet 10"
   ]
  },
  {
   "cell_type": "markdown",
   "metadata": {},
   "source": [
    "For warm-start, I first find $\\lambda_0$ by calculating the max of the absolute value of the inner products of $x_j$ and $y$ for all $j$, divided by $n$. I multiply by 2 compared to the equation in the reference text due to the different objective functions between the sources."
   ]
  },
  {
   "cell_type": "code",
   "execution_count": null,
   "metadata": {
    "collapsed": false
   },
   "outputs": [],
   "source": [
    "2*max(abs(np.inner(X.T, y))/n)"
   ]
  },
  {
   "cell_type": "markdown",
   "metadata": {},
   "source": [
    "This tells me that the Lasso coefficients will all converge to zero for any $\\lambda$ greater than ~1.134, so I select $\\lambda$ values on a log scale decreasing from the smallest power of 10 that is larger than this value (i.e. $10^1 = 10$), down towards zero."
   ]
  },
  {
   "cell_type": "code",
   "execution_count": null,
   "metadata": {
    "collapsed": false
   },
   "outputs": [],
   "source": [
    "lambdas = np.array([10**k for k in range(-5, 2)])[::-1]\n",
    "lambdas"
   ]
  },
  {
   "cell_type": "markdown",
   "metadata": {},
   "source": [
    "To really take advantage of the warm-start approach, I need to build in a thresholding cutoff into my coordinate descent algorithm (otherwise my function will still run the exact same number of iterations). My original function stopped after a maximum number of iterations only; I now enable it to stop iterating once the norm of the distance between $\\beta$ values in adjacent steps (through all coordinates) falls below some given threshold."
   ]
  },
  {
   "cell_type": "code",
   "execution_count": null,
   "metadata": {
    "collapsed": false
   },
   "outputs": [],
   "source": [
    "start_time = time.time()\n",
    "\n",
    "betas_warm_start = np.empty((0,p))\n",
    "betas = np.zeros(p)\n",
    "max_iter = 1000*p\n",
    "for lam in lambdas:\n",
    "    betas = cycliccoorddescent(betas, X, y, lam, 0.9, 0.001, max_iter)[-1]\n",
    "    betas_warm_start = np.vstack((betas_warm_start, betas))\n",
    "\n",
    "print(\"--- %s seconds ---\" % (time.time() - start_time))"
   ]
  },
  {
   "cell_type": "markdown",
   "metadata": {},
   "source": [
    "The plot below shows the $\\beta$ values for each $\\lambda_{\\ell}$ (note that $\\lambda$ decreases logarithmically from left to right). As expected, all the coefficients begin at 0 for $\\lambda_0$, and more non-zero coefficients come into the picture as $\\lambda$ decreases.\n",
    "\n",
    "Also note that this function ran in ~14 seconds."
   ]
  },
  {
   "cell_type": "code",
   "execution_count": null,
   "metadata": {
    "collapsed": false
   },
   "outputs": [],
   "source": [
    "plt.plot(betas_warm_start);\n",
    "plt.xlabel(\"$\\ell$\");\n",
    "plt.ylabel(r'$\\beta$' + \" values\");\n",
    "plt.title(\"Warm Start Implementation\");"
   ]
  },
  {
   "cell_type": "markdown",
   "metadata": {},
   "source": [
    "I now run the same updated coordinate descent algorithm (i.e. with distance thresholding), but this time **_without_** the warm-start procedure, to see whether this procedure actually sped things up."
   ]
  },
  {
   "cell_type": "code",
   "execution_count": null,
   "metadata": {
    "collapsed": false,
    "scrolled": false
   },
   "outputs": [],
   "source": [
    "start_time = time.time()\n",
    "\n",
    "betas_cold_start = np.empty((0,p))\n",
    "for lam in lambdas:\n",
    "    betas2 = cycliccoorddescent(np.zeros(p), X, y, lam, 0.9, 0.001, max_iter)[-1]\n",
    "    betas_cold_start = np.vstack((betas_cold_start, betas2))\n",
    "\n",
    "print(\"--- %s seconds ---\" % (time.time() - start_time))"
   ]
  },
  {
   "cell_type": "markdown",
   "metadata": {},
   "source": [
    "Sure enough, it looks like it took about 2-3 times longer to run without the Warm Start, even with all other settings being equal. Thus, it appears the Warm Start really worked!\n",
    "\n",
    "The plot below shows the coefficients from the Cold Start approach. Again, the general pattern is what we would expect and at a glance the coefficients appear to be a pretty close match to those found using the Warm Start approach."
   ]
  },
  {
   "cell_type": "code",
   "execution_count": null,
   "metadata": {
    "collapsed": false
   },
   "outputs": [],
   "source": [
    "plt.plot(betas_cold_start);\n",
    "plt.xlabel(\"$\\ell$\");\n",
    "plt.ylabel(r'$\\beta$' + \" values\");\n",
    "plt.title(\"Cold Start Implementation\");"
   ]
  },
  {
   "cell_type": "markdown",
   "metadata": {},
   "source": [
    "For the sake of completeness I display the differences in the coefficients between the two approaches below. They are spot-on for the first three $\\lambda$ values but they start to diverge slightly after that. Presumably, increasing the iteration count and/or reducing the convergence threshold would bring them into closer agreement for the smaller $\\lambda$ values."
   ]
  },
  {
   "cell_type": "code",
   "execution_count": null,
   "metadata": {
    "collapsed": false
   },
   "outputs": [],
   "source": [
    "plt.plot(betas_warm_start - betas_cold_start);\n",
    "plt.xlabel(\"$\\ell$\");\n",
    "plt.ylabel(r'$\\beta$' + \" values\");\n",
    "plt.title(\"Warm Start Minus Cold Start\");"
   ]
  },
  {
   "cell_type": "code",
   "execution_count": null,
   "metadata": {
    "collapsed": true
   },
   "outputs": [],
   "source": []
  },
  {
   "cell_type": "markdown",
   "metadata": {},
   "source": [
    "## MISC CODE"
   ]
  },
  {
   "cell_type": "code",
   "execution_count": null,
   "metadata": {
    "collapsed": true
   },
   "outputs": [],
   "source": [
    "\n",
    "# # center and standardize predictors; center response\n",
    "# x = (x-np.mean(x)) / np.std(x)\n",
    "# y = (y-np.mean(y)) / np.std(y)\n",
    "\n",
    "# n, p = x.shape"
   ]
  }
 ],
 "metadata": {
  "kernelspec": {
   "display_name": "Python 3",
   "language": "python",
   "name": "python3"
  },
  "language_info": {
   "codemirror_mode": {
    "name": "ipython",
    "version": 3
   },
   "file_extension": ".py",
   "mimetype": "text/x-python",
   "name": "python",
   "nbconvert_exporter": "python",
   "pygments_lexer": "ipython3",
   "version": "3.6.0"
  }
 },
 "nbformat": 4,
 "nbformat_minor": 2
}
