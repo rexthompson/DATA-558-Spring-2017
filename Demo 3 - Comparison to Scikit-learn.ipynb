{
 "cells": [
  {
   "cell_type": "markdown",
   "metadata": {},
   "source": [
    "# Demo 3: Comparison to Scikit-learn"
   ]
  },
  {
   "cell_type": "markdown",
   "metadata": {},
   "source": [
    "In this demo I build upon the results of Demo 2 to compare my functions' output to those from similar functions in the popular Scikit-learn Python package."
   ]
  },
  {
   "cell_type": "markdown",
   "metadata": {},
   "source": [
    "## Package Imports and Initial Setup"
   ]
  },
  {
   "cell_type": "code",
   "execution_count": 1,
   "metadata": {
    "collapsed": false
   },
   "outputs": [],
   "source": [
    "import src.coorddescent as cd\n",
    "\n",
    "import copy\n",
    "import matplotlib.pyplot as plt\n",
    "import numpy as np\n",
    "import pandas as pd\n",
    "\n",
    "from sklearn.linear_model import ElasticNetCV\n",
    "from sklearn.metrics import mean_squared_error\n",
    "from sklearn.model_selection import train_test_split\n",
    "import sklearn.preprocessing\n",
    "\n",
    "from IPython.core.interactiveshell import InteractiveShell\n",
    "InteractiveShell.ast_node_interactivity = \"all\"\n",
    "%matplotlib inline"
   ]
  },
  {
   "cell_type": "markdown",
   "metadata": {},
   "source": [
    "## Data Import and Standardization"
   ]
  },
  {
   "cell_type": "code",
   "execution_count": 2,
   "metadata": {
    "collapsed": false
   },
   "outputs": [],
   "source": [
    "# import data and drop all rows that contain NA's\n",
    "hitters = pd.read_csv('./data/Hitters.csv', sep=',', header=0)\n",
    "hitters = hitters.dropna()\n",
    "\n",
    "# split out predictors and response\n",
    "X = hitters.drop('Salary', axis=1)\n",
    "y = hitters['Salary']\n",
    "\n",
    "# encode the variables League, Division, and NewLeague\n",
    "X = pd.get_dummies(X, drop_first=True)\n",
    "\n",
    "# train/test split\n",
    "X_train, X_test, y_train, y_test = train_test_split(X, y, random_state=0)\n",
    "\n",
    "# scale and center predictors\n",
    "scaler = sklearn.preprocessing.StandardScaler()\n",
    "scaler.fit(X_train)\n",
    "X_train = scaler.transform(X_train)\n",
    "X_test = scaler.transform(X_test)\n",
    "\n",
    "# scale and center response\n",
    "y_train_mean = np.mean(y_train)\n",
    "y_train_sd = np.std(y_train)\n",
    "y_train = (y_train - y_train_mean) / y_train_sd\n",
    "y_test = (y_test - y_train_mean) / y_train_sd\n",
    "\n",
    "# save dimensions of training and test sets\n",
    "n_train, p_train = X_train.shape\n",
    "n_test, p_test = X_test.shape;"
   ]
  },
  {
   "cell_type": "markdown",
   "metadata": {},
   "source": [
    "## Comparing Cross-Validation Results"
   ]
  },
  {
   "cell_type": "markdown",
   "metadata": {},
   "source": [
    "As shown in Demo 2, my functions' cross-validation yields an optimal $\\lambda$ value of 0.01 on the training set. Using this to train my model yields the following coefficients for my cyclic and random coordinate descent algorithms:"
   ]
  },
  {
   "cell_type": "code",
   "execution_count": 3,
   "metadata": {
    "collapsed": false
   },
   "outputs": [
    {
     "data": {
      "text/plain": [
       "array([-0.52875831,  0.56018528,  0.11625246, -0.0465287 ,  0.00600779,\n",
       "        0.28440328, -0.09481342,  0.        ,  0.35787561,  0.        ,\n",
       "        0.47990408,  0.        , -0.3809565 ,  0.1439146 ,  0.06942123,\n",
       "       -0.07046832,  0.02864446, -0.12395357,  0.        ])"
      ]
     },
     "execution_count": 3,
     "metadata": {},
     "output_type": "execute_result"
    },
    {
     "data": {
      "text/plain": [
       "array([-0.52875344,  0.5601743 ,  0.11625262, -0.04652008,  0.00600744,\n",
       "        0.28440197, -0.09481677,  0.        ,  0.35791176,  0.        ,\n",
       "        0.47986391,  0.        , -0.38094912,  0.14391389,  0.06942123,\n",
       "       -0.0704692 ,  0.02864398, -0.12395445,  0.        ])"
      ]
     },
     "execution_count": 3,
     "metadata": {},
     "output_type": "execute_result"
    }
   ],
   "source": [
    "alpha = 0.9\n",
    "best_lam = 0.01\n",
    "betas_cyclic = cd.coorddescent(np.zeros(p_train), X_train, y_train, best_lam, alpha, desc_type=\"cyclic\")\n",
    "betas_random = cd.coorddescent(np.zeros(p_train), X_train, y_train, best_lam, alpha, desc_type=\"random\", random_seed=0)\n",
    "betas_cyclic[-1]\n",
    "betas_random[-1]"
   ]
  },
  {
   "cell_type": "markdown",
   "metadata": {},
   "source": [
    "Scikit-learn's `ElasticNetCV` performs similar cross-validation. However, when I fit the same data as above to the `ElasticNetCV` model I get quite different coefficients from my results, as shown below."
   ]
  },
  {
   "cell_type": "code",
   "execution_count": 4,
   "metadata": {
    "collapsed": false
   },
   "outputs": [
    {
     "name": "stdout",
     "output_type": "stream",
     "text": [
      "scikit-learn coefficients: \n",
      "[ 0.          0.17937785  0.02409647  0.          0.0329384   0.10170979\n",
      "  0.          0.          0.24929953  0.          0.14171223  0.          0.\n",
      "  0.09084651 -0.         -0.00729358  0.         -0.08102662  0.        ]\n",
      "\n",
      "scikit-learn best regularization parameter = 0.0542624812716\n"
     ]
    }
   ],
   "source": [
    "en = ElasticNetCV(l1_ratio=alpha)\n",
    "en.fit(X_train, y_train)\n",
    "print(\"scikit-learn coefficients: \\n\" + str(en.coef_))\n",
    "print(\"\\nscikit-learn best regularization parameter = \" + str(en.alpha_));"
   ]
  },
  {
   "cell_type": "markdown",
   "metadata": {},
   "source": [
    "This regularization parameter is close, but not identical to that which I found through my own cross-validation. However, what stands out more is the differences in the coefficients -- the Scikit-learn model generates quite different results, including a fair bit more zero coefficients than my model. The coefficients for the three methods are visualized below."
   ]
  },
  {
   "cell_type": "code",
   "execution_count": 5,
   "metadata": {
    "collapsed": false
   },
   "outputs": [
    {
     "data": {
      "image/png": "[encoded data removed]",
      "text/plain": [
       "<matplotlib.figure.Figure at 0x11449cf98>"
      ]
     },
     "metadata": {},
     "output_type": "display_data"
    }
   ],
   "source": [
    "plt.plot(betas_cyclic[-1], '.', color='blue', ms=12)\n",
    "plt.plot(betas_random[-1], '+', color='red', ms=10)\n",
    "plt.plot(en.coef_, '.', color='orange');\n",
    "plt.legend(['cyclic','random','sklearn'], loc=1);"
   ]
  },
  {
   "cell_type": "markdown",
   "metadata": {},
   "source": [
    "However, it would be unwise to jump to conclusions about coefficient differences between models since they were trained using different regularization parameters.\n",
    "\n",
    "Thus, I fit my models using the same regularization parameter as Scikit-learn found through its cross-validation to see if I can get the coefficients to match. The results for the three methods are printed and visualized below."
   ]
  },
  {
   "cell_type": "code",
   "execution_count": 6,
   "metadata": {
    "collapsed": false
   },
   "outputs": [
    {
     "data": {
      "text/plain": [
       "array([ 0.        ,  0.20098401,  0.04289204,  0.        ,  0.01495403,\n",
       "        0.11577147,  0.        ,  0.        ,  0.31903656,  0.        ,\n",
       "        0.08805677,  0.        ,  0.        ,  0.10635379,  0.        ,\n",
       "       -0.03914407,  0.00803714, -0.10693343,  0.        ])"
      ]
     },
     "execution_count": 6,
     "metadata": {},
     "output_type": "execute_result"
    },
    {
     "data": {
      "text/plain": [
       "array([ 0.        ,  0.20098401,  0.04289204,  0.        ,  0.01495403,\n",
       "        0.11577147,  0.        ,  0.        ,  0.31903655,  0.        ,\n",
       "        0.08805677,  0.        ,  0.        ,  0.10635379,  0.        ,\n",
       "       -0.03914407,  0.00803714, -0.10693343,  0.        ])"
      ]
     },
     "execution_count": 6,
     "metadata": {},
     "output_type": "execute_result"
    },
    {
     "data": {
      "text/plain": [
       "array([ 0.        ,  0.17937785,  0.02409647,  0.        ,  0.0329384 ,\n",
       "        0.10170979,  0.        ,  0.        ,  0.24929953,  0.        ,\n",
       "        0.14171223,  0.        ,  0.        ,  0.09084651, -0.        ,\n",
       "       -0.00729358,  0.        , -0.08102662,  0.        ])"
      ]
     },
     "execution_count": 6,
     "metadata": {},
     "output_type": "execute_result"
    }
   ],
   "source": [
    "betas_cyclic = cd.coorddescent(np.zeros(p_train), X_train, y_train, en.alpha_, alpha, desc_type=\"cyclic\")\n",
    "betas_random = cd.coorddescent(np.zeros(p_train), X_train, y_train, en.alpha_, alpha, desc_type=\"random\", random_seed=0)\n",
    "betas_cyclic[-1]\n",
    "betas_random[-1]\n",
    "en.coef_"
   ]
  },
  {
   "cell_type": "code",
   "execution_count": 7,
   "metadata": {
    "collapsed": false
   },
   "outputs": [
    {
     "data": {
      "image/png": "[encoded data removed]",
      "text/plain": [
       "<matplotlib.figure.Figure at 0x11449cac8>"
      ]
     },
     "metadata": {},
     "output_type": "display_data"
    }
   ],
   "source": [
    "plt.plot(betas_cyclic[-1], '.', color='blue', ms=12)\n",
    "plt.plot(betas_random[-1], '+', color='red', ms=10)\n",
    "plt.plot(en.coef_, '.', color='orange');\n",
    "plt.legend(['cyclic','random','sklearn'], loc=1);"
   ]
  },
  {
   "cell_type": "markdown",
   "metadata": {},
   "source": [
    "We see that the results are much closer this time, including a close match on which coefficients are zero or not. However, the magnitudes are still not as close as we might like. So what's going on here?\n",
    "\n",
    "It turns out the discrepancies are due to differences in the objective functions used between the two approaches. The objective function I used had a 1/n term out front, whereas the Scikit-learn function uses 1/2n. The function is minimized the same either way; the 1/2n is used to make the subgradient and soft-thresholding operator calculations a little cleaner.\n",
    "\n",
    "Accounting for the difference, I have included an argument in my functions to make my output match that of Scikit-learn. The only difference is, again, a factor of 2 in the denominator of the soft-thresholding operator.\n",
    "\n",
    "Fitting my models with `match_skl=True` yields results that are essentially a spot-on match with Scikit-learn."
   ]
  },
  {
   "cell_type": "code",
   "execution_count": 8,
   "metadata": {
    "collapsed": false
   },
   "outputs": [
    {
     "data": {
      "text/plain": [
       "array([ 0.        ,  0.17937025,  0.02399085,  0.        ,  0.03304672,\n",
       "        0.10164375,  0.        ,  0.        ,  0.24861867,  0.        ,\n",
       "        0.14239681,  0.        ,  0.        ,  0.09086728,  0.        ,\n",
       "       -0.0072833 ,  0.        , -0.08100263,  0.        ])"
      ]
     },
     "execution_count": 8,
     "metadata": {},
     "output_type": "execute_result"
    },
    {
     "data": {
      "text/plain": [
       "array([ 0.        ,  0.17937025,  0.02399085,  0.        ,  0.03304672,\n",
       "        0.10164375,  0.        ,  0.        ,  0.24861867,  0.        ,\n",
       "        0.14239681,  0.        ,  0.        ,  0.09086728,  0.        ,\n",
       "       -0.0072833 ,  0.        , -0.08100263,  0.        ])"
      ]
     },
     "execution_count": 8,
     "metadata": {},
     "output_type": "execute_result"
    },
    {
     "data": {
      "text/plain": [
       "array([ 0.        ,  0.17937785,  0.02409647,  0.        ,  0.0329384 ,\n",
       "        0.10170979,  0.        ,  0.        ,  0.24929953,  0.        ,\n",
       "        0.14171223,  0.        ,  0.        ,  0.09084651, -0.        ,\n",
       "       -0.00729358,  0.        , -0.08102662,  0.        ])"
      ]
     },
     "execution_count": 8,
     "metadata": {},
     "output_type": "execute_result"
    }
   ],
   "source": [
    "betas_cyclic = cd.coorddescent(np.zeros(p_train), X_train, y_train, en.alpha_, alpha, desc_type=\"cyclic\", match_skl=True)\n",
    "betas_random = cd.coorddescent(np.zeros(p_train), X_train, y_train, en.alpha_, alpha, desc_type=\"random\", random_seed=0, match_skl=True)\n",
    "betas_cyclic[-1]\n",
    "betas_random[-1]\n",
    "en.coef_"
   ]
  },
  {
   "cell_type": "code",
   "execution_count": 9,
   "metadata": {
    "collapsed": false,
    "scrolled": true
   },
   "outputs": [
    {
     "data": {
      "image/png": "[encoded data removed]",
      "text/plain": [
       "<matplotlib.figure.Figure at 0x1148e4f98>"
      ]
     },
     "metadata": {},
     "output_type": "display_data"
    }
   ],
   "source": [
    "plt.plot(betas_cyclic[-1], '.', color='blue', ms=12)\n",
    "plt.plot(betas_random[-1], '+', color='red', ms=10)\n",
    "plt.plot(en.coef_, '.', color='orange');\n",
    "plt.legend(['cyclic','random','sklearn'], loc=1);"
   ]
  },
  {
   "cell_type": "markdown",
   "metadata": {},
   "source": [
    "So there you have it! An important takeaway from this Demo is that you should always know what objective function is being minimized when you use a built-in machine learning algorithm."
   ]
  }
 ],
 "metadata": {
  "kernelspec": {
   "display_name": "Python 3",
   "language": "python",
   "name": "python3"
  },
  "language_info": {
   "codemirror_mode": {
    "name": "ipython",
    "version": 3
   },
   "file_extension": ".py",
   "mimetype": "text/x-python",
   "name": "python",
   "nbconvert_exporter": "python",
   "pygments_lexer": "ipython3",
   "version": "3.6.0"
  }
 },
 "nbformat": 4,
 "nbformat_minor": 2
}
