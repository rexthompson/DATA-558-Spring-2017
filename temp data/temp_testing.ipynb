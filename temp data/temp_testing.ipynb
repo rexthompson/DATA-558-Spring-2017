{
 "cells": [
  {
   "cell_type": "markdown",
   "metadata": {},
   "source": [
    "# Homework 7\n",
    "\n",
    "Rex Thompson  \n",
    "DATA 558 - Spring 2017  \n",
    "5/29/2017"
   ]
  },
  {
   "cell_type": "markdown",
   "metadata": {},
   "source": [
    "## \"Reading\" Assignment"
   ]
  },
  {
   "cell_type": "markdown",
   "metadata": {},
   "source": [
    "TODO: Read and play with scikit-learn’s function SVC using the example:\n",
    "\n",
    "http://scikit-learn.org/stable/auto_examples/svm/plot_iris.html#sphx-glr-auto-examples-svm-plot-iris-py\n",
    "\n",
    "Visualize the results as you change the kernel and/or vary the kernel parameters."
   ]
  },
  {
   "cell_type": "code",
   "execution_count": null,
   "metadata": {
    "collapsed": false
   },
   "outputs": [],
   "source": [
    "print(__doc__)\n",
    "\n",
    "import numpy as np\n",
    "import matplotlib.pyplot as plt\n",
    "from sklearn import svm, datasets\n",
    "\n",
    "# import some data to play with\n",
    "iris = datasets.load_iris()\n",
    "X = iris.data[:, :2]  # we only take the first two features. We could\n",
    "                      # avoid this ugly slicing by using a two-dim dataset\n",
    "y = iris.target\n",
    "\n",
    "h = .02  # step size in the mesh\n",
    "\n",
    "# we create an instance of SVM and fit out data. We do not scale our\n",
    "# data since we want to plot the support vectors\n",
    "C = 1.0  # SVM regularization parameter\n",
    "svc = svm.SVC(kernel='linear', C=C).fit(X, y)\n",
    "rbf_svc = svm.SVC(kernel='rbf', gamma=0.7, C=C).fit(X, y)\n",
    "poly_svc = svm.SVC(kernel='poly', degree=3, C=C).fit(X, y)\n",
    "lin_svc = svm.LinearSVC(C=C).fit(X, y)\n",
    "\n",
    "# create a mesh to plot in\n",
    "x_min, x_max = X[:, 0].min() - 1, X[:, 0].max() + 1\n",
    "y_min, y_max = X[:, 1].min() - 1, X[:, 1].max() + 1\n",
    "xx, yy = np.meshgrid(np.arange(x_min, x_max, h),\n",
    "                     np.arange(y_min, y_max, h))\n",
    "\n",
    "# title for the plots\n",
    "titles = ['SVC with linear kernel',\n",
    "          'LinearSVC (linear kernel)',\n",
    "          'SVC with RBF kernel',\n",
    "          'SVC with polynomial (degree 3) kernel']\n",
    "\n",
    "\n",
    "for i, clf in enumerate((svc, lin_svc, rbf_svc, poly_svc)):\n",
    "    # Plot the decision boundary. For that, we will assign a color to each\n",
    "    # point in the mesh [x_min, x_max]x[y_min, y_max].\n",
    "    plt.subplot(2, 2, i + 1)\n",
    "    plt.subplots_adjust(wspace=0.4, hspace=0.4)\n",
    "\n",
    "    Z = clf.predict(np.c_[xx.ravel(), yy.ravel()])\n",
    "\n",
    "    # Put the result into a color plot\n",
    "    Z = Z.reshape(xx.shape)\n",
    "    plt.contourf(xx, yy, Z, cmap=plt.cm.coolwarm, alpha=0.8)\n",
    "\n",
    "    # Plot also the training points\n",
    "    plt.scatter(X[:, 0], X[:, 1], c=y, cmap=plt.cm.coolwarm)\n",
    "    plt.xlabel('Sepal length')\n",
    "    plt.ylabel('Sepal width')\n",
    "    plt.xlim(xx.min(), xx.max())\n",
    "    plt.ylim(yy.min(), yy.max())\n",
    "    plt.xticks(())\n",
    "    plt.yticks(())\n",
    "    plt.title(titles[i])\n",
    "\n",
    "plt.show()"
   ]
  },
  {
   "cell_type": "markdown",
   "metadata": {},
   "source": [
    "## Exercise 1"
   ]
  },
  {
   "cell_type": "markdown",
   "metadata": {},
   "source": [
    "### Bullet 1"
   ]
  },
  {
   "cell_type": "markdown",
   "metadata": {},
   "source": [
    "Using a similar approach to previous homeworks I get the following result:\n",
    "\n",
    "$$\n",
    "\\nabla F(\\beta) = -\\frac{2}{n}\\sum_{i=1}^n y_ix_i\\max\\big(0, 1-y_ix_i^T\\beta\\big) + 2\\lambda\\beta\n",
    "$$\n",
    "\n",
    "Note that my $x_i$'s are transposed in the equation above compared to the functions defined below since the given objective function assumes $X$ to be a $ d \\times n$ matrix, whereas my data import below results in an $n \\times d$ matrix. Note that I also switched $x_i$ and $y_i$ just to the right of the sum term; while not required in the equation above, I wrote it this way since this is the order I needed to get the dimensions to work out when writing function in vector form below."
   ]
  },
  {
   "cell_type": "markdown",
   "metadata": {},
   "source": [
    "### Bullet 2"
   ]
  },
  {
   "cell_type": "code",
   "execution_count": 1,
   "metadata": {
    "collapsed": true
   },
   "outputs": [],
   "source": [
    "# initial setup\n",
    "import copy\n",
    "import matplotlib.pyplot as plt\n",
    "import numpy as np\n",
    "import pandas as pd\n",
    "import scipy\n",
    "from sklearn.model_selection import train_test_split\n",
    "from sklearn.model_selection import KFold\n",
    "import sklearn.preprocessing\n",
    "\n",
    "from IPython.core.interactiveshell import InteractiveShell\n",
    "\n",
    "InteractiveShell.ast_node_interactivity = \"all\"\n",
    "%matplotlib inline"
   ]
  },
  {
   "cell_type": "code",
   "execution_count": 2,
   "metadata": {
    "collapsed": false
   },
   "outputs": [],
   "source": [
    "# data import and standardization\n",
    "# spam = pd.read_table('https://statweb.stanford.edu/~tibs/ElemStatLearn/datasets/spam.data',\n",
    "#                      sep=' ', header=None)\n",
    "# test_indicator = pd.read_table('https://statweb.stanford.edu/~tibs/ElemStatLearn/datasets/spam.traintest', sep=' ',\n",
    "#                                header=None)\n",
    "spam = pd.read_table('./Supplementals/spam.data',sep=' ', header=None)\n",
    "test_indicator = pd.read_table('./Supplementals/spam.traintest.txt',sep=' ', header=None)\n",
    "# confirmed there is no missing data in the spam dataset\n",
    "\n",
    "# split out predictors and response\n",
    "X = np.array(spam)[:,:-1]\n",
    "y = np.array(spam)[:,-1]*2-1  # convert to +/-1\n",
    "\n",
    "# define training and test sets based on labels provided\n",
    "test_indicator = np.array(test_indicator).T[0]\n",
    "X_train = X[test_indicator == 0]\n",
    "X_test = X[test_indicator == 1]\n",
    "y_train = y[test_indicator == 0]\n",
    "y_test = y[test_indicator == 1]\n",
    "\n",
    "# scale and center predictors\n",
    "scaler = sklearn.preprocessing.StandardScaler()\n",
    "scaler.fit(X_train)\n",
    "X_train = scaler.transform(X_train)\n",
    "X_test = scaler.transform(X_test);"
   ]
  },
  {
   "cell_type": "markdown",
   "metadata": {},
   "source": [
    "### Bullet 3"
   ]
  },
  {
   "cell_type": "markdown",
   "metadata": {},
   "source": [
    "First I need to define the objective and gradient functions for use by `mylienarsvm`."
   ]
  },
  {
   "cell_type": "code",
   "execution_count": 3,
   "metadata": {
    "collapsed": false,
    "scrolled": false
   },
   "outputs": [],
   "source": [
    "def calc_obj(beta, X, y, lam):\n",
    "    inside = np.maximum(0, (1-y*X.dot(beta)))\n",
    "    return (1/len(X))*np.dot(inside, inside) + lam*np.dot(beta, beta)"
   ]
  },
  {
   "cell_type": "code",
   "execution_count": 4,
   "metadata": {
    "collapsed": true
   },
   "outputs": [],
   "source": [
    "def computegrad(beta, X, y, lam):\n",
    "    return -(2/len(X))*X.T.dot(y*np.maximum(0, (1-y*X.dot(beta)))) + 2*lam*beta"
   ]
  },
  {
   "cell_type": "markdown",
   "metadata": {},
   "source": [
    "I also redefine a function to perform the backtracking rule; for this I pull directly from my solutions to Homework 3."
   ]
  },
  {
   "cell_type": "code",
   "execution_count": 5,
   "metadata": {
    "collapsed": true
   },
   "outputs": [],
   "source": [
    "def backtracking(beta, X, y, lam, stepSize_init, alpha=0.5, gamma=0.8):\n",
    "    grad = computegrad(beta, X, y, lam)\n",
    "    lhs = 1 # for entering while loop\n",
    "    rhs = 0 # for entering while loop\n",
    "    t = 0\n",
    "    stepSize = copy.deepcopy(stepSize_init)\n",
    "    while lhs > rhs:\n",
    "        if t == 1:\n",
    "            stepSize = gamma*stepSize\n",
    "        else:\n",
    "            t = 1\n",
    "        lhs = calc_obj(beta - stepSize*grad, X, y, lam)\n",
    "        rhs = calc_obj(beta, X, y, lam) - alpha*stepSize*grad.dot(grad)\n",
    "    return stepSize"
   ]
  },
  {
   "cell_type": "markdown",
   "metadata": {},
   "source": [
    "Now I can define my `mylinearsvm` function, which is basically identical my `fastgradalgo` from Homework 3, but with a different name. And of course, the functions upon which it depends are now different (i.e. `computegrad` and `calc_obj`)."
   ]
  },
  {
   "cell_type": "code",
   "execution_count": 6,
   "metadata": {
    "collapsed": true
   },
   "outputs": [],
   "source": [
    "def mylinearsvm(beta_init, X, y, lam, stepSize_init, max_iter):\n",
    "    beta = copy.deepcopy(beta_init)\n",
    "    theta = copy.deepcopy(beta_init)\n",
    "    stepCoords = [beta]\n",
    "    it = 0\n",
    "    while it < max_iter:\n",
    "        stepSize = backtracking(beta, X, y, lam, stepSize_init)\n",
    "        betaNew = theta - stepSize*computegrad(theta, X, y, lam)\n",
    "        theta = betaNew + (it/(it+3))*(betaNew - beta)\n",
    "        beta = copy.deepcopy(betaNew)\n",
    "        stepCoords.append(np.array(beta))\n",
    "        it += 1\n",
    "    return np.vstack(stepCoords)"
   ]
  },
  {
   "cell_type": "markdown",
   "metadata": {},
   "source": [
    "### Bullet 4"
   ]
  },
  {
   "cell_type": "markdown",
   "metadata": {},
   "source": [
    "I train my linear support vector machine using $\\lambda = 1$; the plot below shows the coefficients through the first 10 steps. Note that I select an initial step size per the formula on Slide 28 of the Week 3 lecture notes."
   ]
  },
  {
   "cell_type": "code",
   "execution_count": 7,
   "metadata": {
    "collapsed": false
   },
   "outputs": [
    {
     "data": {
      "image/png": "[encoded data removed]",
      "text/plain": [
       "<matplotlib.figure.Figure at 0x1157640f0>"
      ]
     },
     "metadata": {},
     "output_type": "display_data"
    }
   ],
   "source": [
    "lam = 1\n",
    "n_train, p_train = X_train.shape\n",
    "stepSize_init = 1 / (scipy.linalg.eigh((1/n_train)*X_train.T.dot(X_train),\n",
    "                                       eigvals=(p_train-1, p_train-1), eigvals_only=True)[0] + lam)\n",
    "betas = mylinearsvm(np.zeros(p_train), X_train, y_train, lam, stepSize_init, 1000)\n",
    "plt.plot(betas[0:10])\n",
    "plt.xlabel(\"Iteration\")\n",
    "plt.ylabel(\"Coefficient Values\");"
   ]
  },
  {
   "cell_type": "markdown",
   "metadata": {},
   "source": [
    "I check my resulting coefficients (after my final step) against those derived using scikit-learn's LinearSVC funciton. I was unable to figure out the objective function they use but through trial and error I was able to get results that matched almost exactly; I had to set their C-value equal to 1/2n$\\lambda$ (i.e. the same adjustment I had to make to get my logistic classifier function to match)."
   ]
  },
  {
   "cell_type": "code",
   "execution_count": 8,
   "metadata": {
    "collapsed": false
   },
   "outputs": [
    {
     "data": {
      "image/png": "[encoded data removed]",
      "text/plain": [
       "<matplotlib.figure.Figure at 0x11aabbbe0>"
      ]
     },
     "metadata": {},
     "output_type": "display_data"
    }
   ],
   "source": [
    "from sklearn.svm import LinearSVC\n",
    "sh = LinearSVC(C = 1/(2*n_train*lam), fit_intercept=False)\n",
    "sh.fit(X_train, y_train)\n",
    "plt.scatter(sh.coef_, betas[-1]); plt.show();"
   ]
  },
  {
   "cell_type": "markdown",
   "metadata": {},
   "source": [
    "I now define a function to compute the misclassification error. This is basically the same function I wrote for Homework 3, except I now output the actual predictions (for troubleshooting purposes), and I no longer return the error at each step (the function now only accepts a single beta vector, rather than betas at each step)."
   ]
  },
  {
   "cell_type": "code",
   "execution_count": 9,
   "metadata": {
    "collapsed": false
   },
   "outputs": [],
   "source": [
    "def calc_error(beta, X, y):\n",
    "    prob = 1/(1+np.exp(-X.dot(beta))) > 0.5 # expit function\n",
    "    prob = prob*2-1 # adjust to same scale as training/test data (+/-1)\n",
    "    error_rate = 1-np.sum(prob == y)/len(X) # compare to training/test data\n",
    "    return error_rate, prob"
   ]
  },
  {
   "cell_type": "markdown",
   "metadata": {},
   "source": [
    "The test misclassification error when $\\lambda$ = 1 is as follows:"
   ]
  },
  {
   "cell_type": "code",
   "execution_count": 10,
   "metadata": {
    "collapsed": false,
    "scrolled": true
   },
   "outputs": [
    {
     "name": "stdout",
     "output_type": "stream",
     "text": [
      "Misclassification error: 9.5%\n"
     ]
    }
   ],
   "source": [
    "error = calc_error(betas[-1], X_test, y_test)\n",
    "print(\"Misclassification error: \" + str(round(100*error[0], 1)) + \"%\")"
   ]
  },
  {
   "cell_type": "markdown",
   "metadata": {},
   "source": [
    "### Bullet 5"
   ]
  },
  {
   "cell_type": "markdown",
   "metadata": {},
   "source": [
    "I implement k-folds cross-validation to find the optimal $\\lambda$ value. I use 6 folds."
   ]
  },
  {
   "cell_type": "code",
   "execution_count": 11,
   "metadata": {
    "collapsed": false
   },
   "outputs": [],
   "source": [
    "folds = 6\n",
    "kf = KFold(folds, shuffle=True, random_state=0)\n",
    "lambdas = np.array([10**k for k in range(-10, 1)])\n",
    "all_errors = np.empty((0, folds))\n",
    "for lam in lambdas:\n",
    "    fold_errors = np.array([])\n",
    "    for train_index, test_index in kf.split(X_train, y_train):\n",
    "        X_train_CV, X_test_CV = X_train[train_index], X_train[test_index]\n",
    "        y_train_CV, y_test_CV = y_train[train_index], y_train[test_index]\n",
    "        n_train_CV, p_train_CV = X_train_CV.shape\n",
    "        stepSize_init = 1 / (scipy.linalg.eigh((1/n_train_CV)*X_train_CV.T.dot(X_train_CV),\n",
    "                                       eigvals=(p_train_CV-1, p_train_CV-1), eigvals_only=True)[0] + lam)\n",
    "        betas = mylinearsvm(np.zeros(p_train_CV), X_train_CV, y_train_CV, lam, stepSize_init, 1000)\n",
    "        error = calc_error(betas[-1], X_test_CV, y_test_CV)\n",
    "        fold_errors = np.append(fold_errors, error[0])\n",
    "    all_errors = np.vstack((all_errors, fold_errors))"
   ]
  },
  {
   "cell_type": "code",
   "execution_count": 12,
   "metadata": {
    "collapsed": false
   },
   "outputs": [
    {
     "data": {
      "image/png": "[encoded data removed]",
      "text/plain": [
       "<matplotlib.figure.Figure at 0x11af3f710>"
      ]
     },
     "metadata": {},
     "output_type": "display_data"
    }
   ],
   "source": [
    "mean_error = np.mean(all_errors, axis=1);\n",
    "plt.plot(np.log(lambdas), all_errors, \"--\", linewidth=.75)\n",
    "plt.plot(np.log(lambdas), mean_error, \"black\", linewidth=2.5)\n",
    "plt.xlabel('log' + r'($\\lambda)$')\n",
    "plt.ylabel('Misclassification Error');"
   ]
  },
  {
   "cell_type": "markdown",
   "metadata": {},
   "source": [
    "The plot above shows the misclassification error as a function of log($\\lambda$) for all six folds. The mean of the errors at each $\\lambda$ is shown in black. Below I display the $\\lambda$ values, the mean misclassification error at each $\\lambda$, and the best $\\lambda$."
   ]
  },
  {
   "cell_type": "code",
   "execution_count": 13,
   "metadata": {
    "collapsed": false
   },
   "outputs": [
    {
     "data": {
      "text/plain": [
       "array([  1.00000000e-10,   1.00000000e-09,   1.00000000e-08,\n",
       "         1.00000000e-07,   1.00000000e-06,   1.00000000e-05,\n",
       "         1.00000000e-04,   1.00000000e-03,   1.00000000e-02,\n",
       "         1.00000000e-01,   1.00000000e+00])"
      ]
     },
     "execution_count": 13,
     "metadata": {},
     "output_type": "execute_result"
    },
    {
     "data": {
      "text/plain": [
       "array([ 0.08221864,  0.08221864,  0.08221864,  0.08221864,  0.08221864,\n",
       "        0.08189184,  0.08221736,  0.0854815 ,  0.08711357,  0.08841692,\n",
       "        0.08874244])"
      ]
     },
     "execution_count": 13,
     "metadata": {},
     "output_type": "execute_result"
    },
    {
     "name": "stdout",
     "output_type": "stream",
     "text": [
      "best lambda =  1e-05\n"
     ]
    }
   ],
   "source": [
    "lambdas\n",
    "mean_error\n",
    "max_min_index = np.max(np.where(mean_error == mean_error.min()))\n",
    "lam = lambdas[np.max(np.where(mean_error == mean_error.min()))]\n",
    "print(\"best lambda =\", lam)"
   ]
  },
  {
   "cell_type": "markdown",
   "metadata": {},
   "source": [
    "I now calculate the misclassification error on the test set using the optimal $\\lambda$ determined above (i.e. 1e-05)."
   ]
  },
  {
   "cell_type": "code",
   "execution_count": 16,
   "metadata": {
    "collapsed": false
   },
   "outputs": [
    {
     "name": "stdout",
     "output_type": "stream",
     "text": [
      "Misclassification error: 7.9%\n"
     ]
    }
   ],
   "source": [
    "stepSize_init = 1 / (scipy.linalg.eigh((1/n_train)*X_train.T.dot(X_train),\n",
    "                                       eigvals=(p_train-1, p_train-1), eigvals_only=True)[0] + lam)\n",
    "betas = mylinearsvm(np.zeros(p_train), X_train, y_train, lam, stepSize_init, 1000)\n",
    "error = calc_error(betas[-1], X_test, y_test)\n",
    "print(\"Misclassification error: \" + str(round(100*error[0], 1)) + \"%\")"
   ]
  },
  {
   "cell_type": "markdown",
   "metadata": {
    "collapsed": false,
    "scrolled": true
   },
   "source": [
    "As expected, this is an improvement over the results when using an arbitrary $\\lambda$ value of 1."
   ]
  },
  {
   "cell_type": "markdown",
   "metadata": {},
   "source": [
    "## Exercise 2: Kaggle"
   ]
  },
  {
   "cell_type": "code",
   "execution_count": null,
   "metadata": {
    "collapsed": true
   },
   "outputs": [],
   "source": []
  },
  {
   "cell_type": "code",
   "execution_count": null,
   "metadata": {
    "collapsed": true
   },
   "outputs": [],
   "source": []
  },
  {
   "cell_type": "code",
   "execution_count": null,
   "metadata": {
    "collapsed": true
   },
   "outputs": [],
   "source": []
  },
  {
   "cell_type": "code",
   "execution_count": null,
   "metadata": {
    "collapsed": true
   },
   "outputs": [],
   "source": []
  },
  {
   "cell_type": "code",
   "execution_count": null,
   "metadata": {
    "collapsed": true
   },
   "outputs": [],
   "source": []
  }
 ],
 "metadata": {
  "kernelspec": {
   "display_name": "Python 3",
   "language": "python",
   "name": "python3"
  },
  "language_info": {
   "codemirror_mode": {
    "name": "ipython",
    "version": 3
   },
   "file_extension": ".py",
   "mimetype": "text/x-python",
   "name": "python",
   "nbconvert_exporter": "python",
   "pygments_lexer": "ipython3",
   "version": "3.6.0"
  }
 },
 "nbformat": 4,
 "nbformat_minor": 2
}
